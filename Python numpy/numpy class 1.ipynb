{
 "cells": [
  {
   "cell_type": "markdown",
   "id": "9aae3b5e-f5f0-42f2-bb50-01fcae3917cd",
   "metadata": {},
   "source": [
    "<h1 align=\"center\">Numpy</h1>"
   ]
  },
  {
   "cell_type": "markdown",
   "id": "0ab8efba-3aba-47f6-b4d3-52edc3b1b6c9",
   "metadata": {},
   "source": [
    "<h3>Class-1</h3>"
   ]
  },
  {
   "cell_type": "markdown",
   "id": "32619636-2549-4953-b9ec-4804918153a0",
   "metadata": {},
   "source": [
    "<ol type=\"1\">\n",
    "    <li>pip install numpy</li>\n",
    "    <li>import numpy as np</li>\n",
    "    <li>Open the file in terminal</li>\n",
    "    <li>python -m notebook</li>\n",
    "</ol>"
   ]
  },
  {
   "cell_type": "markdown",
   "id": "2ebcc3e8-328c-415f-8104-361e590621ae",
   "metadata": {},
   "source": [
    "<h4>Type-1</h4>"
   ]
  },
  {
   "cell_type": "code",
   "execution_count": 2,
   "id": "e99b510e-06c8-4db8-ad64-6b28a8b42dfe",
   "metadata": {},
   "outputs": [],
   "source": [
    "import numpy as np\n",
    "a = np.array([1,2,3])\n"
   ]
  },
  {
   "cell_type": "code",
   "execution_count": 3,
   "id": "ccdd6238-e510-4771-9f26-0c93307a12fa",
   "metadata": {},
   "outputs": [
    {
     "data": {
      "text/plain": [
       "array([1, 2, 3])"
      ]
     },
     "execution_count": 3,
     "metadata": {},
     "output_type": "execute_result"
    }
   ],
   "source": [
    "a"
   ]
  },
  {
   "cell_type": "code",
   "execution_count": 4,
   "id": "229d31ff-909a-4178-b157-99061f6146fd",
   "metadata": {},
   "outputs": [
    {
     "data": {
      "text/plain": [
       "1"
      ]
     },
     "execution_count": 4,
     "metadata": {},
     "output_type": "execute_result"
    }
   ],
   "source": [
    "a[0]"
   ]
  },
  {
   "cell_type": "code",
   "execution_count": 5,
   "id": "9a1d519d-c3bf-4d57-a2ba-2d7bb794d3a1",
   "metadata": {},
   "outputs": [
    {
     "data": {
      "text/plain": [
       "2"
      ]
     },
     "execution_count": 5,
     "metadata": {},
     "output_type": "execute_result"
    }
   ],
   "source": [
    "a[1]"
   ]
  },
  {
   "cell_type": "code",
   "execution_count": 6,
   "id": "a557cd42-e6f6-445e-9e40-7d8adf62f765",
   "metadata": {},
   "outputs": [
    {
     "data": {
      "text/plain": [
       "3"
      ]
     },
     "execution_count": 6,
     "metadata": {},
     "output_type": "execute_result"
    }
   ],
   "source": [
    "a[2]"
   ]
  },
  {
   "cell_type": "markdown",
   "id": "9b7d947d-7453-4508-8607-006ba241155b",
   "metadata": {},
   "source": [
    "<h3>3 main benefits of numpy array over a python list</h3>\n",
    "<ol type=\"1\">\n",
    "    <li>Less Memory</li>\n",
    "    <li>Fast</li>\n",
    "    <li>Convinien</li>\n",
    "</ol>"
   ]
  },
  {
   "cell_type": "markdown",
   "id": "9b947818-117e-4240-87f0-08642d31edbc",
   "metadata": {},
   "source": [
    "Less Memory Proof\n"
   ]
  },
  {
   "cell_type": "code",
   "execution_count": 13,
   "id": "0d534c9a-82b5-4d8d-a0ea-3938bacbb086",
   "metadata": {},
   "outputs": [
    {
     "name": "stdout",
     "output_type": "stream",
     "text": [
      "28000\n",
      "4000\n"
     ]
    }
   ],
   "source": [
    "import numpy as np\n",
    "import time\n",
    "import sys\n",
    "l = range(1000)\n",
    "print(sys.getsizeof(5)*len(l))\n",
    "\n",
    "array = np.arange(1000)\n",
    "print(array.size*array.itemsize)"
   ]
  },
  {
   "cell_type": "markdown",
   "id": "4c022faa-bbf2-4b83-bc25-0ca89dbbfd2e",
   "metadata": {},
   "source": [
    "Fast"
   ]
  },
  {
   "cell_type": "code",
   "execution_count": 14,
   "id": "396e3e28-eadf-404d-a4bf-0f326e992ede",
   "metadata": {},
   "outputs": [
    {
     "name": "stdout",
     "output_type": "stream",
     "text": [
      " python list took : 31.65602684020996\n"
     ]
    }
   ],
   "source": [
    "SIZE = 100000\n",
    "\n",
    "l1 = range(SIZE)\n",
    "l2 = range(SIZE)\n",
    "\n",
    "start = time.time()\n",
    "result = [(x+y) for x,y in zip(l1,l2)]\n",
    "print(\" python list took :\", (time.time()-start)*1000)"
   ]
  },
  {
   "cell_type": "code",
   "execution_count": 15,
   "id": "eedd7c86-7cf8-40df-8583-eae987a98e83",
   "metadata": {},
   "outputs": [
    {
     "name": "stdout",
     "output_type": "stream",
     "text": [
      "numpy took:  0.0\n"
     ]
    }
   ],
   "source": [
    "a1 = np.array(SIZE)\n",
    "a2 = np.array(SIZE)\n",
    "start = time.time()\n",
    "result = a1 + a2\n",
    "print(\"numpy took: \", (time.time()-start)*1000)"
   ]
  },
  {
   "cell_type": "markdown",
   "id": "09638602-6635-4d6b-8350-358a632962c7",
   "metadata": {},
   "source": [
    "Convinien"
   ]
  },
  {
   "cell_type": "code",
   "execution_count": 16,
   "id": "dd82a1d6-a7e9-4fd4-a116-9465075d84f1",
   "metadata": {},
   "outputs": [],
   "source": [
    "a1 = np.array([1,2,3])\n",
    "a2 = np.array([4,5,6])\n"
   ]
  },
  {
   "cell_type": "code",
   "execution_count": 17,
   "id": "3db2934a-64bc-4ebc-a356-f818bd47ac93",
   "metadata": {},
   "outputs": [
    {
     "data": {
      "text/plain": [
       "array([5, 7, 9])"
      ]
     },
     "execution_count": 17,
     "metadata": {},
     "output_type": "execute_result"
    }
   ],
   "source": [
    "a1+a2"
   ]
  },
  {
   "cell_type": "code",
   "execution_count": 19,
   "id": "6839de15-cb63-4885-b56f-b0900d05d189",
   "metadata": {},
   "outputs": [
    {
     "data": {
      "text/plain": [
       "array([3, 3, 3])"
      ]
     },
     "execution_count": 19,
     "metadata": {},
     "output_type": "execute_result"
    }
   ],
   "source": [
    "a2-a1"
   ]
  },
  {
   "cell_type": "code",
   "execution_count": 18,
   "id": "c38fdd2d-e762-41ab-a260-2638107a3b84",
   "metadata": {},
   "outputs": [
    {
     "data": {
      "text/plain": [
       "array([ 4, 10, 18])"
      ]
     },
     "execution_count": 18,
     "metadata": {},
     "output_type": "execute_result"
    }
   ],
   "source": [
    "a1*a2"
   ]
  },
  {
   "cell_type": "code",
   "execution_count": 20,
   "id": "763701e3-70f2-48fe-9674-631cd5b8908b",
   "metadata": {},
   "outputs": [
    {
     "data": {
      "text/plain": [
       "array([0.25, 0.4 , 0.5 ])"
      ]
     },
     "execution_count": 20,
     "metadata": {},
     "output_type": "execute_result"
    }
   ],
   "source": [
    "a1/a2"
   ]
  },
  {
   "cell_type": "markdown",
   "id": "126528f8-4c43-4480-9810-ad87b0c529eb",
   "metadata": {},
   "source": [
    "<h1 align=\"center\">Summary</h1>"
   ]
  },
  {
   "cell_type": "markdown",
   "id": "a0dfa2c1-d90e-4efb-b99e-1fc7523bdb8f",
   "metadata": {},
   "source": [
    "<h3>Libary used</h3>\n",
    "<h4>Numpy</h4>\n",
    "<ol type=\"1\">\n",
    "    <li>a = np.array([1,2,3])  array for input</li>\n",
    "    <li>a,a[0] to get array</li>\n",
    "    <li>a = np.arange(1000)-- Without input we get array</li>\n",
    "    <li>array addition,substrutaion,multipication,division</li>\n",
    "</ol>"
   ]
  },
  {
   "cell_type": "markdown",
   "id": "f9a1467c-d121-4b75-a3d3-410a678b65a8",
   "metadata": {},
   "source": [
    "<h4>import time</h4>\n",
    "<ol type=\"1\">\n",
    "    <li>start = time.time()</li>\n",
    "    <li>(time.time() - start)*1000</li>\n",
    "</ol>"
   ]
  },
  {
   "cell_type": "markdown",
   "id": "2bf8654b-5d74-4eb3-b9e4-0ebcea5ea3b4",
   "metadata": {},
   "source": [
    "<h4>import sys</h4>\n",
    "<ol type=\"1\">\n",
    "    <li>sys.getsizeof(5)*len(l)</li>\n",
    "</ol>"
   ]
  }
 ],
 "metadata": {
  "kernelspec": {
   "display_name": "Python 3 (ipykernel)",
   "language": "python",
   "name": "python3"
  },
  "language_info": {
   "codemirror_mode": {
    "name": "ipython",
    "version": 3
   },
   "file_extension": ".py",
   "mimetype": "text/x-python",
   "name": "python",
   "nbconvert_exporter": "python",
   "pygments_lexer": "ipython3",
   "version": "3.12.0"
  }
 },
 "nbformat": 4,
 "nbformat_minor": 5
}
