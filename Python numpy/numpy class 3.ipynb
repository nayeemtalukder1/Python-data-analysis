{
 "cells": [
  {
   "cell_type": "markdown",
   "id": "3d301b71-45ac-42ff-936f-ba7fd85aeb32",
   "metadata": {},
   "source": [
    "<h1>Numpy</h1>\n",
    "<ol type=\"1\">\n",
    "    <li>pip install numpy</li>\n",
    "    <li>import numpy as np</li>\n",
    "    <li>Open the file in terminal</li>\n",
    "    <li>python -m notebook</li>\n",
    "</ol>\n"
   ]
  },
  {
   "cell_type": "markdown",
   "id": "50f8af62-3eb7-4850-b039-4b021a9a25a3",
   "metadata": {},
   "source": [
    "<h1>Type-1<br></h1>"
   ]
  },
  {
   "cell_type": "code",
   "execution_count": 1,
   "id": "aae6d3a9-990f-430c-bbbc-a146835325dc",
   "metadata": {},
   "outputs": [
    {
     "data": {
      "text/plain": [
       "[1, 2, 3]"
      ]
     },
     "execution_count": 1,
     "metadata": {},
     "output_type": "execute_result"
    }
   ],
   "source": [
    "import numpy as np\n",
    "n = [1,2,3,4,5]\n",
    "n[0:3]"
   ]
  },
  {
   "cell_type": "code",
   "execution_count": 5,
   "id": "328b15e9-bc74-4a14-ab61-f5b82222d4af",
   "metadata": {},
   "outputs": [
    {
     "data": {
      "text/plain": [
       "[1, 2, 3, 4, 5, 6, 7]"
      ]
     },
     "execution_count": 5,
     "metadata": {},
     "output_type": "execute_result"
    }
   ],
   "source": [
    "import numpy as np\n",
    "m = [1,2,3,4,5,6,7,8,9]\n",
    "m[0:7]"
   ]
  },
  {
   "cell_type": "markdown",
   "id": "2c61a76b-d4fd-4c45-b745-9d8c3d5da765",
   "metadata": {},
   "source": [
    "<h1>Type-2<br></h1>"
   ]
  },
  {
   "cell_type": "code",
   "execution_count": 6,
   "id": "072e0ee4-c368-46a1-9a80-538f8aea9952",
   "metadata": {},
   "outputs": [
    {
     "data": {
      "text/plain": [
       "9"
      ]
     },
     "execution_count": 6,
     "metadata": {},
     "output_type": "execute_result"
    }
   ],
   "source": [
    "m[-1]"
   ]
  },
  {
   "cell_type": "code",
   "execution_count": 7,
   "id": "3323949f-a3ac-4299-89da-4124d70faad4",
   "metadata": {},
   "outputs": [
    {
     "data": {
      "text/plain": [
       "8"
      ]
     },
     "execution_count": 7,
     "metadata": {},
     "output_type": "execute_result"
    }
   ],
   "source": [
    "m[-2]"
   ]
  },
  {
   "cell_type": "code",
   "execution_count": 8,
   "id": "574c8016-e150-4464-b5ea-0c50d4463de0",
   "metadata": {},
   "outputs": [
    {
     "data": {
      "text/plain": [
       "[7, 8]"
      ]
     },
     "execution_count": 8,
     "metadata": {},
     "output_type": "execute_result"
    }
   ],
   "source": [
    "m[-3:-1]"
   ]
  },
  {
   "cell_type": "markdown",
   "id": "6d3250aa-e248-47e3-ab89-20868a809e7f",
   "metadata": {},
   "source": [
    "Now work Right to Left"
   ]
  },
  {
   "cell_type": "code",
   "execution_count": 9,
   "id": "5d2caf52-64d9-4617-8f32-c8a7f6975fcc",
   "metadata": {},
   "outputs": [
    {
     "data": {
      "text/plain": [
       "[]"
      ]
     },
     "execution_count": 9,
     "metadata": {},
     "output_type": "execute_result"
    }
   ],
   "source": [
    "m[-1:-3]"
   ]
  },
  {
   "cell_type": "markdown",
   "id": "89a7b660-dfba-4d1f-a547-76776965ae56",
   "metadata": {},
   "source": [
    "<h1>Type-3<br></h1>"
   ]
  },
  {
   "cell_type": "code",
   "execution_count": 11,
   "id": "f6e8aa30-3803-463e-af45-7b3d34889e72",
   "metadata": {},
   "outputs": [
    {
     "data": {
      "text/plain": [
       "array([6, 7])"
      ]
     },
     "execution_count": 11,
     "metadata": {},
     "output_type": "execute_result"
    }
   ],
   "source": [
    "a=np.array([6,7,8,9])\n",
    "a[0:2]"
   ]
  },
  {
   "cell_type": "code",
   "execution_count": 12,
   "id": "18f0da38-56c1-4c5c-a9ff-1a0549c23707",
   "metadata": {},
   "outputs": [
    {
     "data": {
      "text/plain": [
       "array([7, 8])"
      ]
     },
     "execution_count": 12,
     "metadata": {},
     "output_type": "execute_result"
    }
   ],
   "source": [
    "a[1:3]"
   ]
  },
  {
   "cell_type": "code",
   "execution_count": 13,
   "id": "58acf368-73b7-42cd-b96f-1b861733c33e",
   "metadata": {},
   "outputs": [],
   "source": [
    "b=np.array([[1,2,3],\n",
    "            [4,5,6],\n",
    "            [8,9,10]])"
   ]
  },
  {
   "cell_type": "code",
   "execution_count": 14,
   "id": "109539d7-bd30-4243-8bed-11f795175c2c",
   "metadata": {},
   "outputs": [
    {
     "data": {
      "text/plain": [
       "array([[ 1,  2,  3],\n",
       "       [ 4,  5,  6],\n",
       "       [ 8,  9, 10]])"
      ]
     },
     "execution_count": 14,
     "metadata": {},
     "output_type": "execute_result"
    }
   ],
   "source": [
    "b"
   ]
  },
  {
   "cell_type": "code",
   "execution_count": 15,
   "id": "81c97dc2-e0a4-4bc3-b924-29420e187c67",
   "metadata": {},
   "outputs": [
    {
     "data": {
      "text/plain": [
       "6"
      ]
     },
     "execution_count": 15,
     "metadata": {},
     "output_type": "execute_result"
    }
   ],
   "source": [
    "b[1,2]"
   ]
  },
  {
   "cell_type": "code",
   "execution_count": 16,
   "id": "a31c51a7-9a72-413d-b0a4-9ca273a4255a",
   "metadata": {},
   "outputs": [
    {
     "data": {
      "text/plain": [
       "array([3, 6])"
      ]
     },
     "execution_count": 16,
     "metadata": {},
     "output_type": "execute_result"
    }
   ],
   "source": [
    "b[0:2,2]"
   ]
  },
  {
   "cell_type": "code",
   "execution_count": 17,
   "id": "7a1d48ae-b063-4c3b-9877-1259738fd953",
   "metadata": {},
   "outputs": [
    {
     "data": {
      "text/plain": [
       "array([ 3,  6, 10])"
      ]
     },
     "execution_count": 17,
     "metadata": {},
     "output_type": "execute_result"
    }
   ],
   "source": [
    "b[0:3,2]"
   ]
  },
  {
   "cell_type": "code",
   "execution_count": 14,
   "id": "e80f3c46-b0fe-438f-bf05-a9fff2ebb2a8",
   "metadata": {},
   "outputs": [
    {
     "data": {
      "text/plain": [
       "array([[ 1,  2,  3],\n",
       "       [ 4,  5,  6],\n",
       "       [ 8,  9, 10]])"
      ]
     },
     "execution_count": 14,
     "metadata": {},
     "output_type": "execute_result"
    }
   ],
   "source": [
    "b"
   ]
  },
  {
   "cell_type": "code",
   "execution_count": 19,
   "id": "b3013974-ec15-4cf2-8b31-d4daac5f3995",
   "metadata": {},
   "outputs": [
    {
     "data": {
      "text/plain": [
       "array([4, 5])"
      ]
     },
     "execution_count": 19,
     "metadata": {},
     "output_type": "execute_result"
    }
   ],
   "source": [
    "b[1,0:2]"
   ]
  },
  {
   "cell_type": "code",
   "execution_count": 16,
   "id": "7c65d75f-a1c2-457a-9926-136ff5186046",
   "metadata": {},
   "outputs": [
    {
     "name": "stdout",
     "output_type": "stream",
     "text": [
      "[1 2 3]\n",
      "[4 5 6]\n",
      "[ 8  9 10]\n"
     ]
    }
   ],
   "source": [
    "for row in b :\n",
    "    print(row)"
   ]
  },
  {
   "cell_type": "code",
   "execution_count": 18,
   "id": "9e6aa3f0-d08e-4050-bd18-4b010dca90a2",
   "metadata": {},
   "outputs": [
    {
     "name": "stdout",
     "output_type": "stream",
     "text": [
      "1\n",
      "2\n",
      "3\n",
      "4\n",
      "5\n",
      "6\n",
      "8\n",
      "9\n",
      "10\n"
     ]
    }
   ],
   "source": [
    "for cell in b.flat:\n",
    "    print(cell)"
   ]
  },
  {
   "cell_type": "markdown",
   "id": "7b15b80b-4525-4de1-93b7-9fc6689e8363",
   "metadata": {},
   "source": [
    "<h1>Type-4</h1>"
   ]
  },
  {
   "cell_type": "code",
   "execution_count": 13,
   "id": "03441d93-70c5-4741-bb05-3c3a208434b4",
   "metadata": {},
   "outputs": [],
   "source": [
    "import numpy as np\n",
    "a=np.arange(6).reshape(3,2)\n",
    "b=np.arange(6,12).reshape(3,2)"
   ]
  },
  {
   "cell_type": "code",
   "execution_count": 21,
   "id": "eab00eb0-ce79-4159-8ac7-9055a9ac04a3",
   "metadata": {},
   "outputs": [
    {
     "data": {
      "text/plain": [
       "array([[0, 1],\n",
       "       [2, 3],\n",
       "       [4, 5]])"
      ]
     },
     "execution_count": 21,
     "metadata": {},
     "output_type": "execute_result"
    }
   ],
   "source": [
    "a"
   ]
  },
  {
   "cell_type": "code",
   "execution_count": 22,
   "id": "3bdd60be-596f-4853-901f-704d9b85d882",
   "metadata": {},
   "outputs": [
    {
     "data": {
      "text/plain": [
       "array([[ 6,  7],\n",
       "       [ 8,  9],\n",
       "       [10, 11]])"
      ]
     },
     "execution_count": 22,
     "metadata": {},
     "output_type": "execute_result"
    }
   ],
   "source": [
    "b"
   ]
  },
  {
   "cell_type": "code",
   "execution_count": 23,
   "id": "d68d2825-9e02-45a0-91c4-857db8c3571f",
   "metadata": {},
   "outputs": [
    {
     "data": {
      "text/plain": [
       "array([[ 0,  1],\n",
       "       [ 2,  3],\n",
       "       [ 4,  5],\n",
       "       [ 6,  7],\n",
       "       [ 8,  9],\n",
       "       [10, 11]])"
      ]
     },
     "execution_count": 23,
     "metadata": {},
     "output_type": "execute_result"
    }
   ],
   "source": [
    "np.vstack((a,b))"
   ]
  },
  {
   "cell_type": "code",
   "execution_count": 24,
   "id": "ab7d1ed7-6e25-471e-af97-d72e93e32573",
   "metadata": {},
   "outputs": [
    {
     "data": {
      "text/plain": [
       "array([[ 0,  1,  6,  7],\n",
       "       [ 2,  3,  8,  9],\n",
       "       [ 4,  5, 10, 11]])"
      ]
     },
     "execution_count": 24,
     "metadata": {},
     "output_type": "execute_result"
    }
   ],
   "source": [
    "np.hstack((a,b))"
   ]
  },
  {
   "cell_type": "markdown",
   "id": "54b7cb29-e005-473f-b30d-a6be721e4d19",
   "metadata": {},
   "source": [
    "<h1>Type-5</h1>"
   ]
  },
  {
   "cell_type": "markdown",
   "id": "8f54f308-26c8-4511-8f58-5fba2ea56521",
   "metadata": {},
   "source": [
    "<h5>For cutting array horizontal <br></h5>"
   ]
  },
  {
   "cell_type": "code",
   "execution_count": 15,
   "id": "564c45ea-0fed-4b7e-bf76-dbfbcbdee172",
   "metadata": {},
   "outputs": [],
   "source": [
    "a=np.arange(30).reshape(2,15)"
   ]
  },
  {
   "cell_type": "code",
   "execution_count": 27,
   "id": "d75ff405-bd7f-4a8c-aad9-66647f928309",
   "metadata": {},
   "outputs": [
    {
     "data": {
      "text/plain": [
       "array([[ 0,  1,  2,  3,  4,  5,  6,  7,  8,  9, 10, 11, 12, 13, 14],\n",
       "       [15, 16, 17, 18, 19, 20, 21, 22, 23, 24, 25, 26, 27, 28, 29]])"
      ]
     },
     "execution_count": 27,
     "metadata": {},
     "output_type": "execute_result"
    }
   ],
   "source": [
    "a"
   ]
  },
  {
   "cell_type": "code",
   "execution_count": 28,
   "id": "4941276e-8d57-4780-88fe-f0aab6e19988",
   "metadata": {},
   "outputs": [
    {
     "data": {
      "text/plain": [
       "[array([[ 0,  1,  2,  3,  4],\n",
       "        [15, 16, 17, 18, 19]]),\n",
       " array([[ 5,  6,  7,  8,  9],\n",
       "        [20, 21, 22, 23, 24]]),\n",
       " array([[10, 11, 12, 13, 14],\n",
       "        [25, 26, 27, 28, 29]])]"
      ]
     },
     "execution_count": 28,
     "metadata": {},
     "output_type": "execute_result"
    }
   ],
   "source": [
    "np.hsplit(a,3)"
   ]
  },
  {
   "cell_type": "markdown",
   "id": "8e374c16-4871-4c8a-8027-fc724006fe44",
   "metadata": {},
   "source": [
    "<h5>To get all result indivisibly<br></h5>"
   ]
  },
  {
   "cell_type": "code",
   "execution_count": 30,
   "id": "d5365765-5102-43de-9757-518bb678211f",
   "metadata": {},
   "outputs": [],
   "source": [
    "result = np.hsplit(a,3)"
   ]
  },
  {
   "cell_type": "code",
   "execution_count": 31,
   "id": "e183bab1-40da-45b2-83a3-f6c0a5478c3f",
   "metadata": {},
   "outputs": [
    {
     "data": {
      "text/plain": [
       "array([[ 0,  1,  2,  3,  4],\n",
       "       [15, 16, 17, 18, 19]])"
      ]
     },
     "execution_count": 31,
     "metadata": {},
     "output_type": "execute_result"
    }
   ],
   "source": [
    "result[0]"
   ]
  },
  {
   "cell_type": "code",
   "execution_count": 32,
   "id": "868be2f5-9108-47b6-a331-599a3728420b",
   "metadata": {},
   "outputs": [
    {
     "data": {
      "text/plain": [
       "array([[ 5,  6,  7,  8,  9],\n",
       "       [20, 21, 22, 23, 24]])"
      ]
     },
     "execution_count": 32,
     "metadata": {},
     "output_type": "execute_result"
    }
   ],
   "source": [
    "result[1]"
   ]
  },
  {
   "cell_type": "code",
   "execution_count": 33,
   "id": "25e70bcd-c8d7-440e-976a-98fba70d02e3",
   "metadata": {},
   "outputs": [
    {
     "data": {
      "text/plain": [
       "array([[10, 11, 12, 13, 14],\n",
       "       [25, 26, 27, 28, 29]])"
      ]
     },
     "execution_count": 33,
     "metadata": {},
     "output_type": "execute_result"
    }
   ],
   "source": [
    "result[2]"
   ]
  },
  {
   "cell_type": "markdown",
   "id": "74572f4c-6394-4cf5-8af1-bfd93c4881e0",
   "metadata": {},
   "source": [
    "<h5>For cutting array vertically <br></h5>"
   ]
  },
  {
   "cell_type": "code",
   "execution_count": 34,
   "id": "8f79b2ad-ea26-44a2-a6c9-f7d1784fe105",
   "metadata": {},
   "outputs": [],
   "source": [
    "result = np.vsplit(a,2)"
   ]
  },
  {
   "cell_type": "code",
   "execution_count": 35,
   "id": "cf42f6d8-2cef-44b4-b5fe-5af5578bcf02",
   "metadata": {},
   "outputs": [
    {
     "data": {
      "text/plain": [
       "array([[ 0,  1,  2,  3,  4,  5,  6,  7,  8,  9, 10, 11, 12, 13, 14]])"
      ]
     },
     "execution_count": 35,
     "metadata": {},
     "output_type": "execute_result"
    }
   ],
   "source": [
    "result[0]"
   ]
  },
  {
   "cell_type": "code",
   "execution_count": 36,
   "id": "1d160301-cf20-43f6-908e-18b3468b564f",
   "metadata": {},
   "outputs": [
    {
     "data": {
      "text/plain": [
       "array([[15, 16, 17, 18, 19, 20, 21, 22, 23, 24, 25, 26, 27, 28, 29]])"
      ]
     },
     "execution_count": 36,
     "metadata": {},
     "output_type": "execute_result"
    }
   ],
   "source": [
    "result[1]"
   ]
  },
  {
   "cell_type": "markdown",
   "id": "24a80062-8321-428b-aa5a-1c98e8da5d2b",
   "metadata": {},
   "source": [
    "<h1>Type-6<br></h1>"
   ]
  },
  {
   "cell_type": "code",
   "execution_count": 3,
   "id": "1ba8dbb1-1950-4ded-9b80-939ff90f4206",
   "metadata": {},
   "outputs": [],
   "source": [
    "import numpy as np\n",
    "a = np.arange(12).reshape(3,4)"
   ]
  },
  {
   "cell_type": "code",
   "execution_count": 4,
   "id": "17059ef9-617b-4a29-9a3e-0b901f5d79fd",
   "metadata": {},
   "outputs": [
    {
     "data": {
      "text/plain": [
       "array([[ 0,  1,  2,  3],\n",
       "       [ 4,  5,  6,  7],\n",
       "       [ 8,  9, 10, 11]])"
      ]
     },
     "execution_count": 4,
     "metadata": {},
     "output_type": "execute_result"
    }
   ],
   "source": [
    "a"
   ]
  },
  {
   "cell_type": "code",
   "execution_count": 5,
   "id": "84d38031-def9-40b3-89d1-738227a010e0",
   "metadata": {},
   "outputs": [],
   "source": [
    "b = a > 4"
   ]
  },
  {
   "cell_type": "code",
   "execution_count": 6,
   "id": "34af6e74-6f70-4a36-a93d-7d93b12ba6c6",
   "metadata": {},
   "outputs": [
    {
     "data": {
      "text/plain": [
       "array([[False, False, False, False],\n",
       "       [False,  True,  True,  True],\n",
       "       [ True,  True,  True,  True]])"
      ]
     },
     "execution_count": 6,
     "metadata": {},
     "output_type": "execute_result"
    }
   ],
   "source": [
    "b"
   ]
  },
  {
   "cell_type": "markdown",
   "id": "5726dba0-4a44-4fe4-a526-341cb18a8744",
   "metadata": {},
   "source": [
    "<h5>For true value print the number from array</h5>"
   ]
  },
  {
   "cell_type": "code",
   "execution_count": 7,
   "id": "d4f7424e-0a19-4a26-83ed-484463814edd",
   "metadata": {},
   "outputs": [
    {
     "data": {
      "text/plain": [
       "array([ 5,  6,  7,  8,  9, 10, 11])"
      ]
     },
     "execution_count": 7,
     "metadata": {},
     "output_type": "execute_result"
    }
   ],
   "source": [
    "a[b]"
   ]
  },
  {
   "cell_type": "markdown",
   "id": "ffff8b70-29af-493b-8e29-2ebdbaf3dbd3",
   "metadata": {},
   "source": [
    "For replace b=a>4 into -1"
   ]
  },
  {
   "cell_type": "code",
   "execution_count": 8,
   "id": "e51af6c9-3438-418c-9561-563d37cc9696",
   "metadata": {},
   "outputs": [],
   "source": [
    "a[b]=-1"
   ]
  },
  {
   "cell_type": "code",
   "execution_count": 9,
   "id": "1c825063-1575-4e4b-b410-509cb2272bd7",
   "metadata": {},
   "outputs": [
    {
     "data": {
      "text/plain": [
       "array([[ 0,  1,  2,  3],\n",
       "       [ 4, -1, -1, -1],\n",
       "       [-1, -1, -1, -1]])"
      ]
     },
     "execution_count": 9,
     "metadata": {},
     "output_type": "execute_result"
    }
   ],
   "source": [
    "a"
   ]
  },
  {
   "cell_type": "code",
   "execution_count": null,
   "id": "30d6e9b8-4413-4cf6-be1c-819c4ef4785f",
   "metadata": {},
   "outputs": [],
   "source": []
  }
 ],
 "metadata": {
  "kernelspec": {
   "display_name": "Python 3 (ipykernel)",
   "language": "python",
   "name": "python3"
  },
  "language_info": {
   "codemirror_mode": {
    "name": "ipython",
    "version": 3
   },
   "file_extension": ".py",
   "mimetype": "text/x-python",
   "name": "python",
   "nbconvert_exporter": "python",
   "pygments_lexer": "ipython3",
   "version": "3.12.0"
  }
 },
 "nbformat": 4,
 "nbformat_minor": 5
}
